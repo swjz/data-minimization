{
 "cells": [
  {
   "cell_type": "code",
   "execution_count": 1,
   "id": "otherwise-internet",
   "metadata": {},
   "outputs": [],
   "source": [
    "import pandas as pd\n",
    "import numpy as np\n",
    "import ast\n",
    "from IPython.display import display"
   ]
  },
  {
   "cell_type": "code",
   "execution_count": 2,
   "id": "false-accommodation",
   "metadata": {},
   "outputs": [],
   "source": [
    "df = pd.read_csv('opportunity-1024-unbalanced.txt', sep=';')"
   ]
  },
  {
   "cell_type": "code",
   "execution_count": 3,
   "id": "south-orleans",
   "metadata": {},
   "outputs": [
    {
     "data": {
      "text/plain": [
       "([0.8242964398497027,\n",
       "  0.8160534754512057,\n",
       "  0.7995675466542116,\n",
       "  0.7418667958647325,\n",
       "  0.5770075078947918,\n",
       "  0.0],\n",
       " [0, 0.01, 0.03, 0.1, 0.3, 1])"
      ]
     },
     "execution_count": 3,
     "metadata": {},
     "output_type": "execute_result"
    }
   ],
   "source": [
    "max_acc = max(df['Source Accuracy'])\n",
    "user_thres = [0, 0.01, 0.03, 0.1, 0.3, 1]\n",
    "src_thres = [max_acc * (1-x) for x in user_thres]\n",
    "src_thres, user_thres"
   ]
  },
  {
   "cell_type": "code",
   "execution_count": 4,
   "id": "engaging-content",
   "metadata": {},
   "outputs": [],
   "source": [
    "df['Number of Features'] = df['Features'].apply(lambda x: len(ast.literal_eval(x)))"
   ]
  },
  {
   "cell_type": "code",
   "execution_count": 7,
   "id": "important-spectrum",
   "metadata": {},
   "outputs": [],
   "source": [
    "import os\n",
    "filename = os.path.basename(globals()['__session__'])\n",
    "results_list = []\n",
    "\n",
    "for src_t, user_t in zip(src_thres, user_thres):\n",
    "    # print(\"Source Accuracy Threshold:\", src_t)\n",
    "    # print(User Threshold:\", user_t)\n",
    "    \n",
    "    # Filter rows based on source accuracy threshold\n",
    "    filtered_df = df[df['Source Accuracy'] >= src_t]\n",
    "    \n",
    "    # Find the lowest threat accuracy\n",
    "    min_threat_accuracy = filtered_df['Threat Accuracy'].min()\n",
    "    \n",
    "    # Filter rows with similar threat accuracy (<1% difference)\n",
    "    similar_threat_rows = filtered_df[\n",
    "        (filtered_df['Threat Accuracy'] >= min_threat_accuracy) & \n",
    "        (filtered_df['Threat Accuracy'] <= min_threat_accuracy * 1.01)\n",
    "    ]\n",
    "    \n",
    "    # Find the row with the minimum number of features among these rows\n",
    "    # min_feats = similar_threat_rows['Number of Features'].min()\n",
    "    # result = similar_threat_rows[similar_threat_rows['Number of Features'] <= min_feats+1]\n",
    "    \n",
    "    # Sort and select the row with minimum threat accuracy\n",
    "    selected_row = similar_threat_rows.sort_values(by='Threat Accuracy').iloc[0]\n",
    "    \n",
    "    # Append result to list\n",
    "    results_list.append([\n",
    "        user_t,\n",
    "        selected_row['Source Accuracy'],\n",
    "        selected_row['Threat Accuracy'],\n",
    "        selected_row['Number of Features'],\n",
    "        selected_row['Features']\n",
    "    ])\n",
    "\n",
    "# columns = ['Threshold', 'Source Accuracy', 'Threat Accuracy', f\"# Features (Max {max(df['Number of Features'])})\"]\n",
    "# result_df = pd.DataFrame(results_list, columns=columns)\n",
    "# result_df.to_csv(filename + '.csv', index=False)"
   ]
  },
  {
   "cell_type": "code",
   "execution_count": 9,
   "id": "8deba93a-443a-4db6-9d4f-a4b3163b8973",
   "metadata": {},
   "outputs": [
    {
     "data": {
      "text/plain": [
       "[[0,\n",
       "  0.8242964398497027,\n",
       "  0.6921461053521926,\n",
       "  10,\n",
       "  '[0, 1, 2, 3, 4, 5, 6, 7, 8, 9]'],\n",
       " [0.01, 0.8168466377132871, 0.6645660362451696, 8, '[0, 1, 2, 4, 5, 6, 7, 8]'],\n",
       " [0.03, 0.8010303313372696, 0.6011358275995883, 7, '[0, 1, 4, 5, 7, 8, 9]'],\n",
       " [0.1, 0.7539973556223234, 0.5094528368967368, 5, '[1, 4, 5, 7, 8]'],\n",
       " [0.3, 0.5839276211987071, 0.3050526668014416, 3, '[5, 7, 8]'],\n",
       " [1, 0.4275770482889389, 0.2614192732841172, 2, '[7, 8]']]"
      ]
     },
     "execution_count": 9,
     "metadata": {},
     "output_type": "execute_result"
    }
   ],
   "source": [
    "results_list"
   ]
  },
  {
   "cell_type": "code",
   "execution_count": 11,
   "id": "fdfd32b9-3d66-4064-bc9a-63d67f9f8a0c",
   "metadata": {},
   "outputs": [
    {
     "name": "stdout",
     "output_type": "stream",
     "text": [
      "[1, 3, 4, 5, 7]\n",
      "[1, 2, 3, 4, 5, 7, 9]\n"
     ]
    }
   ],
   "source": [
    "feat10 = [0, 3, 4, 45, 57, 70, 96, 122, 123, 132]\n",
    "feat5 = [3, 45, 57, 70, 122]\n",
    "feat7 = [3, 4, 45, 57, 70, 122, 132]\n",
    "\n",
    "def find_index(full, subset):\n",
    "    result = []\n",
    "    for n in subset:\n",
    "        result.append(full.index(n))\n",
    "    return result\n",
    "\n",
    "print(find_index(feat10, feat5))\n",
    "print(find_index(feat10, feat7))"
   ]
  },
  {
   "cell_type": "code",
   "execution_count": 26,
   "id": "850cc873-4348-4d76-93df-00834bbbb41d",
   "metadata": {},
   "outputs": [
    {
     "data": {
      "text/plain": [
       "[[0, 0.7705096120107727, 0.5738996670128989, 5, '[1, 3, 4, 5, 7]'],\n",
       " [0.01, 0.7705096120107727, 0.5738996670128989, 5, '[1, 3, 4, 5, 7]'],\n",
       " [0.03, 0.7705096120107727, 0.5738996670128989, 5, '[1, 3, 4, 5, 7]'],\n",
       " [0.1, 0.6991090910358385, 0.493971144216179, 3, '[1, 4, 5]'],\n",
       " [0.3, 0.5714086539466988, 0.335076112997186, 2, '[1, 7]'],\n",
       " [1, 0.4274411114751584, 0.2616632624370566, 1, '[7]']]"
      ]
     },
     "execution_count": 26,
     "metadata": {},
     "output_type": "execute_result"
    }
   ],
   "source": [
    "import os\n",
    "import ast\n",
    "\n",
    "filename = os.path.basename(globals()['__session__'])\n",
    "\n",
    "def find_best(given_feat_indexes):\n",
    "    results_list = []\n",
    "    subset_df = df[df['Features'].apply(lambda x: set(ast.literal_eval(x)).issubset(set(given_feat_indexes)))]\n",
    "    max_acc = max(subset_df['Source Accuracy'])\n",
    "    user_thres = [0, 0.01, 0.03, 0.1, 0.3, 1]\n",
    "    src_thres = [max_acc * (1-x) for x in user_thres]\n",
    "\n",
    "    for src_t, user_t in zip(src_thres, user_thres):\n",
    "        # print(\"Source Accuracy Threshold:\", src_t)\n",
    "        # print(User Threshold:\", user_t)\n",
    "        \n",
    "        # Filter rows based on source accuracy threshold\n",
    "        filtered_df = subset_df[subset_df['Source Accuracy'] >= src_t]\n",
    "        \n",
    "        # Find the lowest threat accuracy\n",
    "        min_threat_accuracy = filtered_df['Threat Accuracy'].min()\n",
    "        \n",
    "        # Filter rows with similar threat accuracy (<1% difference)\n",
    "        similar_threat_rows = filtered_df[\n",
    "            (filtered_df['Threat Accuracy'] >= min_threat_accuracy) & \n",
    "            (filtered_df['Threat Accuracy'] <= min_threat_accuracy * 1.01)\n",
    "        ]\n",
    "        \n",
    "        # Find the row with the minimum number of features among these rows\n",
    "        # min_feats = similar_threat_rows['Number of Features'].min()\n",
    "        # result = similar_threat_rows[similar_threat_rows['Number of Features'] <= min_feats+1]\n",
    "        \n",
    "        # Sort and select the row with minimum threat accuracy\n",
    "        selected_row = similar_threat_rows.sort_values(by='Threat Accuracy').iloc[0]\n",
    "        \n",
    "        # Append result to list\n",
    "        results_list.append([\n",
    "            user_t,\n",
    "            selected_row['Source Accuracy'],\n",
    "            selected_row['Threat Accuracy'],\n",
    "            selected_row['Number of Features'],\n",
    "            selected_row['Features']\n",
    "        ])\n",
    "\n",
    "    columns = ['Threshold', 'Source Accuracy', 'Threat Accuracy', f\"# Features (Max {max(df['Number of Features'])})\", 'Features']\n",
    "    result_df = pd.DataFrame(results_list, columns=columns).drop('Features', axis=1)\n",
    "    result_df.to_csv(filename + str(len(given_feat_indexes)) + '.csv', index=False)\n",
    "    return results_list\n",
    "\n",
    "find_best(find_index(feat10, feat5))\n",
    "\n"
   ]
  },
  {
   "cell_type": "code",
   "execution_count": 27,
   "id": "dc8d9589-bafa-446d-8bb3-100f30904740",
   "metadata": {},
   "outputs": [
    {
     "data": {
      "text/plain": [
       "[[0, 0.7890609206059296, 0.6149781455430153, 7, '[1, 2, 3, 4, 5, 7, 9]'],\n",
       " [0.01, 0.7831366316019398, 0.60944191547751, 6, '[1, 2, 3, 4, 5, 7]'],\n",
       " [0.03, 0.767135590581554, 0.5703676335608242, 6, '[1, 2, 4, 5, 7, 9]'],\n",
       " [0.1, 0.741601544799894, 0.5028372452927521, 4, '[1, 4, 5, 7]'],\n",
       " [0.3, 0.5853079026924783, 0.3188973084510871, 3, '[5, 7, 9]'],\n",
       " [1, 0.4274411114751584, 0.2616632624370566, 1, '[7]']]"
      ]
     },
     "execution_count": 27,
     "metadata": {},
     "output_type": "execute_result"
    }
   ],
   "source": [
    "find_best(find_index(feat10, feat7))"
   ]
  },
  {
   "cell_type": "code",
   "execution_count": 22,
   "id": "d8d491e2-30af-4984-a55a-42b1404944c7",
   "metadata": {},
   "outputs": [
    {
     "data": {
      "text/plain": [
       "[[0,\n",
       "  0.8242964398497027,\n",
       "  0.6921461053521926,\n",
       "  10,\n",
       "  '[0, 1, 2, 3, 4, 5, 6, 7, 8, 9]'],\n",
       " [0.01, 0.8168466377132871, 0.6645660362451696, 8, '[0, 1, 2, 4, 5, 6, 7, 8]'],\n",
       " [0.03, 0.8010303313372696, 0.6011358275995883, 7, '[0, 1, 4, 5, 7, 8, 9]'],\n",
       " [0.1, 0.7539973556223234, 0.5094528368967368, 5, '[1, 4, 5, 7, 8]'],\n",
       " [0.3, 0.5839276211987071, 0.3050526668014416, 3, '[5, 7, 8]'],\n",
       " [1, 0.4275770482889389, 0.2614192732841172, 2, '[7, 8]']]"
      ]
     },
     "execution_count": 22,
     "metadata": {},
     "output_type": "execute_result"
    }
   ],
   "source": [
    "find_best(find_index(feat10, feat10))"
   ]
  },
  {
   "cell_type": "code",
   "execution_count": null,
   "id": "2defba71-460b-432f-ae43-574d8baf6228",
   "metadata": {},
   "outputs": [],
   "source": []
  },
  {
   "cell_type": "code",
   "execution_count": 8,
   "id": "d04273a9-21c7-4930-ada7-3af0a6a25a78",
   "metadata": {},
   "outputs": [
    {
     "name": "stdout",
     "output_type": "stream",
     "text": [
      "Source Accuracy Threshold: 0.5921568159726156\n",
      "Source Accuracy Threshold: 0.5896568159726157\n",
      "Source Accuracy Threshold: 0.5871568159726156\n",
      "Source Accuracy Threshold: 0.5821568159726156\n",
      "Source Accuracy Threshold: 0.5771568159726156\n",
      "Source Accuracy Threshold: 0.5721568159726156\n",
      "Source Accuracy Threshold: 0.5671568159726156\n",
      "Source Accuracy Threshold: 0.5621568159726156\n"
     ]
    },
    {
     "data": {
      "image/png": "[encoded data removed]",
      "text/plain": [
       "<Figure size 1000x600 with 1 Axes>"
      ]
     },
     "metadata": {},
     "output_type": "display_data"
    }
   ],
   "source": [
    "import pandas as pd\n",
    "import matplotlib.pyplot as plt\n",
    "\n",
    "# Collect results for plotting\n",
    "plot_data = []\n",
    "\n",
    "for src_t in src_thres:\n",
    "    print(\"Source Accuracy Threshold:\", src_t)\n",
    "    \n",
    "    # Filter rows based on source accuracy threshold\n",
    "    filtered_df = df[df['Source Accuracy'] >= src_t]\n",
    "    \n",
    "    # Find the lowest threat accuracy\n",
    "    min_threat_accuracy = filtered_df['Threat Accuracy'].min()\n",
    "    \n",
    "    # Filter rows with similar threat accuracy (<1% difference)\n",
    "    similar_threat_rows = filtered_df[\n",
    "        (filtered_df['Threat Accuracy'] >= min_threat_accuracy) & \n",
    "        (filtered_df['Threat Accuracy'] <= min_threat_accuracy * 1.01)\n",
    "    ]\n",
    "    \n",
    "    # Find the row with the minimum number of features among these rows\n",
    "    min_feats = similar_threat_rows['Number of Features'].min()\n",
    "    result = similar_threat_rows[similar_threat_rows['Number of Features'] <= min_feats+1]\n",
    "    \n",
    "    # Select the first data point for the current threshold\n",
    "    if not result.empty:\n",
    "        first_row = result.iloc[0]\n",
    "        plot_data.append({\n",
    "            'Source Accuracy': first_row['Source Accuracy'],\n",
    "            'Privateness': 1 - first_row['Threat Accuracy'],\n",
    "            'Threshold': src_t\n",
    "        })\n",
    "\n",
    "# Convert collected data to a DataFrame\n",
    "plot_df = pd.DataFrame(plot_data)\n",
    "\n",
    "# Plotting\n",
    "plt.figure(figsize=(10, 6))\n",
    "plt.plot(plot_df['Privateness'], plot_df['Source Accuracy'], marker='o', label='Our Tradeoff')\n",
    "    \n",
    "plt.ylabel('Source Accuracy')\n",
    "plt.xlabel('Privateness (1 - Threat Accuracy)')\n",
    "plt.title('Source Accuracy vs. Privateness Across Thresholds')\n",
    "plt.legend()\n",
    "plt.grid(True)\n",
    "plt.show()\n"
   ]
  },
  {
   "cell_type": "code",
   "execution_count": 10,
   "id": "hired-italic",
   "metadata": {},
   "outputs": [
    {
     "name": "stdout",
     "output_type": "stream",
     "text": [
      "Source Accuracy Threshold: 0.5921568159726156\n"
     ]
    },
    {
     "data": {
      "text/html": [
       "<div>\n",
       "<style scoped>\n",
       "    .dataframe tbody tr th:only-of-type {\n",
       "        vertical-align: middle;\n",
       "    }\n",
       "\n",
       "    .dataframe tbody tr th {\n",
       "        vertical-align: top;\n",
       "    }\n",
       "\n",
       "    .dataframe thead th {\n",
       "        text-align: right;\n",
       "    }\n",
       "</style>\n",
       "<table border=\"1\" class=\"dataframe\">\n",
       "  <thead>\n",
       "    <tr style=\"text-align: right;\">\n",
       "      <th></th>\n",
       "      <th>Features</th>\n",
       "      <th>Source Accuracy</th>\n",
       "      <th>Threat Accuracy</th>\n",
       "      <th>Number of Features</th>\n",
       "    </tr>\n",
       "  </thead>\n",
       "  <tbody>\n",
       "    <tr>\n",
       "      <th>6655</th>\n",
       "      <td>[0, 1, 4, 5, 6, 7, 8, 9, 10, 11, 12]</td>\n",
       "      <td>0.592157</td>\n",
       "      <td>0.394443</td>\n",
       "      <td>11</td>\n",
       "    </tr>\n",
       "  </tbody>\n",
       "</table>\n",
       "</div>"
      ],
      "text/plain": [
       "                                  Features  Source Accuracy  Threat Accuracy  \\\n",
       "6655  [0, 1, 4, 5, 6, 7, 8, 9, 10, 11, 12]         0.592157         0.394443   \n",
       "\n",
       "      Number of Features  \n",
       "6655                  11  "
      ]
     },
     "metadata": {},
     "output_type": "display_data"
    },
    {
     "name": "stdout",
     "output_type": "stream",
     "text": [
      "Source Accuracy Threshold: 0.5896568159726157\n"
     ]
    },
    {
     "data": {
      "text/html": [
       "<div>\n",
       "<style scoped>\n",
       "    .dataframe tbody tr th:only-of-type {\n",
       "        vertical-align: middle;\n",
       "    }\n",
       "\n",
       "    .dataframe tbody tr th {\n",
       "        vertical-align: top;\n",
       "    }\n",
       "\n",
       "    .dataframe thead th {\n",
       "        text-align: right;\n",
       "    }\n",
       "</style>\n",
       "<table border=\"1\" class=\"dataframe\">\n",
       "  <thead>\n",
       "    <tr style=\"text-align: right;\">\n",
       "      <th></th>\n",
       "      <th>Features</th>\n",
       "      <th>Source Accuracy</th>\n",
       "      <th>Threat Accuracy</th>\n",
       "      <th>Number of Features</th>\n",
       "    </tr>\n",
       "  </thead>\n",
       "  <tbody>\n",
       "    <tr>\n",
       "      <th>6527</th>\n",
       "      <td>[0, 1, 4, 6, 7, 8, 9, 10, 11, 12]</td>\n",
       "      <td>0.591644</td>\n",
       "      <td>0.394246</td>\n",
       "      <td>10</td>\n",
       "    </tr>\n",
       "    <tr>\n",
       "      <th>6399</th>\n",
       "      <td>[0, 1, 5, 6, 7, 8, 9, 10, 11, 12]</td>\n",
       "      <td>0.591793</td>\n",
       "      <td>0.394437</td>\n",
       "      <td>10</td>\n",
       "    </tr>\n",
       "  </tbody>\n",
       "</table>\n",
       "</div>"
      ],
      "text/plain": [
       "                               Features  Source Accuracy  Threat Accuracy  \\\n",
       "6527  [0, 1, 4, 6, 7, 8, 9, 10, 11, 12]         0.591644         0.394246   \n",
       "6399  [0, 1, 5, 6, 7, 8, 9, 10, 11, 12]         0.591793         0.394437   \n",
       "\n",
       "      Number of Features  \n",
       "6527                  10  \n",
       "6399                  10  "
      ]
     },
     "metadata": {},
     "output_type": "display_data"
    },
    {
     "name": "stdout",
     "output_type": "stream",
     "text": [
      "Source Accuracy Threshold: 0.5871568159726156\n"
     ]
    },
    {
     "data": {
      "text/html": [
       "<div>\n",
       "<style scoped>\n",
       "    .dataframe tbody tr th:only-of-type {\n",
       "        vertical-align: middle;\n",
       "    }\n",
       "\n",
       "    .dataframe tbody tr th {\n",
       "        vertical-align: top;\n",
       "    }\n",
       "\n",
       "    .dataframe thead th {\n",
       "        text-align: right;\n",
       "    }\n",
       "</style>\n",
       "<table border=\"1\" class=\"dataframe\">\n",
       "  <thead>\n",
       "    <tr style=\"text-align: right;\">\n",
       "      <th></th>\n",
       "      <th>Features</th>\n",
       "      <th>Source Accuracy</th>\n",
       "      <th>Threat Accuracy</th>\n",
       "      <th>Number of Features</th>\n",
       "    </tr>\n",
       "  </thead>\n",
       "  <tbody>\n",
       "    <tr>\n",
       "      <th>6527</th>\n",
       "      <td>[0, 1, 4, 6, 7, 8, 9, 10, 11, 12]</td>\n",
       "      <td>0.591644</td>\n",
       "      <td>0.394246</td>\n",
       "      <td>10</td>\n",
       "    </tr>\n",
       "    <tr>\n",
       "      <th>6399</th>\n",
       "      <td>[0, 1, 5, 6, 7, 8, 9, 10, 11, 12]</td>\n",
       "      <td>0.591793</td>\n",
       "      <td>0.394437</td>\n",
       "      <td>10</td>\n",
       "    </tr>\n",
       "  </tbody>\n",
       "</table>\n",
       "</div>"
      ],
      "text/plain": [
       "                               Features  Source Accuracy  Threat Accuracy  \\\n",
       "6527  [0, 1, 4, 6, 7, 8, 9, 10, 11, 12]         0.591644         0.394246   \n",
       "6399  [0, 1, 5, 6, 7, 8, 9, 10, 11, 12]         0.591793         0.394437   \n",
       "\n",
       "      Number of Features  \n",
       "6527                  10  \n",
       "6399                  10  "
      ]
     },
     "metadata": {},
     "output_type": "display_data"
    },
    {
     "name": "stdout",
     "output_type": "stream",
     "text": [
      "Source Accuracy Threshold: 0.5821568159726156\n"
     ]
    },
    {
     "data": {
      "text/html": [
       "<div>\n",
       "<style scoped>\n",
       "    .dataframe tbody tr th:only-of-type {\n",
       "        vertical-align: middle;\n",
       "    }\n",
       "\n",
       "    .dataframe tbody tr th {\n",
       "        vertical-align: top;\n",
       "    }\n",
       "\n",
       "    .dataframe thead th {\n",
       "        text-align: right;\n",
       "    }\n",
       "</style>\n",
       "<table border=\"1\" class=\"dataframe\">\n",
       "  <thead>\n",
       "    <tr style=\"text-align: right;\">\n",
       "      <th></th>\n",
       "      <th>Features</th>\n",
       "      <th>Source Accuracy</th>\n",
       "      <th>Threat Accuracy</th>\n",
       "      <th>Number of Features</th>\n",
       "    </tr>\n",
       "  </thead>\n",
       "  <tbody>\n",
       "    <tr>\n",
       "      <th>6527</th>\n",
       "      <td>[0, 1, 4, 6, 7, 8, 9, 10, 11, 12]</td>\n",
       "      <td>0.591644</td>\n",
       "      <td>0.394246</td>\n",
       "      <td>10</td>\n",
       "    </tr>\n",
       "    <tr>\n",
       "      <th>6399</th>\n",
       "      <td>[0, 1, 5, 6, 7, 8, 9, 10, 11, 12]</td>\n",
       "      <td>0.591793</td>\n",
       "      <td>0.394437</td>\n",
       "      <td>10</td>\n",
       "    </tr>\n",
       "  </tbody>\n",
       "</table>\n",
       "</div>"
      ],
      "text/plain": [
       "                               Features  Source Accuracy  Threat Accuracy  \\\n",
       "6527  [0, 1, 4, 6, 7, 8, 9, 10, 11, 12]         0.591644         0.394246   \n",
       "6399  [0, 1, 5, 6, 7, 8, 9, 10, 11, 12]         0.591793         0.394437   \n",
       "\n",
       "      Number of Features  \n",
       "6527                  10  \n",
       "6399                  10  "
      ]
     },
     "metadata": {},
     "output_type": "display_data"
    },
    {
     "name": "stdout",
     "output_type": "stream",
     "text": [
      "Source Accuracy Threshold: 0.5771568159726156\n"
     ]
    },
    {
     "data": {
      "text/html": [
       "<div>\n",
       "<style scoped>\n",
       "    .dataframe tbody tr th:only-of-type {\n",
       "        vertical-align: middle;\n",
       "    }\n",
       "\n",
       "    .dataframe tbody tr th {\n",
       "        vertical-align: top;\n",
       "    }\n",
       "\n",
       "    .dataframe thead th {\n",
       "        text-align: right;\n",
       "    }\n",
       "</style>\n",
       "<table border=\"1\" class=\"dataframe\">\n",
       "  <thead>\n",
       "    <tr style=\"text-align: right;\">\n",
       "      <th></th>\n",
       "      <th>Features</th>\n",
       "      <th>Source Accuracy</th>\n",
       "      <th>Threat Accuracy</th>\n",
       "      <th>Number of Features</th>\n",
       "    </tr>\n",
       "  </thead>\n",
       "  <tbody>\n",
       "    <tr>\n",
       "      <th>6271</th>\n",
       "      <td>[0, 1, 6, 7, 8, 9, 10, 11, 12]</td>\n",
       "      <td>0.58159</td>\n",
       "      <td>0.394151</td>\n",
       "      <td>9</td>\n",
       "    </tr>\n",
       "  </tbody>\n",
       "</table>\n",
       "</div>"
      ],
      "text/plain": [
       "                            Features  Source Accuracy  Threat Accuracy  \\\n",
       "6271  [0, 1, 6, 7, 8, 9, 10, 11, 12]          0.58159         0.394151   \n",
       "\n",
       "      Number of Features  \n",
       "6271                   9  "
      ]
     },
     "metadata": {},
     "output_type": "display_data"
    },
    {
     "name": "stdout",
     "output_type": "stream",
     "text": [
      "Source Accuracy Threshold: 0.5721568159726156\n"
     ]
    },
    {
     "data": {
      "text/html": [
       "<div>\n",
       "<style scoped>\n",
       "    .dataframe tbody tr th:only-of-type {\n",
       "        vertical-align: middle;\n",
       "    }\n",
       "\n",
       "    .dataframe tbody tr th {\n",
       "        vertical-align: top;\n",
       "    }\n",
       "\n",
       "    .dataframe thead th {\n",
       "        text-align: right;\n",
       "    }\n",
       "</style>\n",
       "<table border=\"1\" class=\"dataframe\">\n",
       "  <thead>\n",
       "    <tr style=\"text-align: right;\">\n",
       "      <th></th>\n",
       "      <th>Features</th>\n",
       "      <th>Source Accuracy</th>\n",
       "      <th>Threat Accuracy</th>\n",
       "      <th>Number of Features</th>\n",
       "    </tr>\n",
       "  </thead>\n",
       "  <tbody>\n",
       "    <tr>\n",
       "      <th>7284</th>\n",
       "      <td>[0, 1, 2, 6, 7, 8, 10]</td>\n",
       "      <td>0.574111</td>\n",
       "      <td>0.456642</td>\n",
       "      <td>7</td>\n",
       "    </tr>\n",
       "  </tbody>\n",
       "</table>\n",
       "</div>"
      ],
      "text/plain": [
       "                    Features  Source Accuracy  Threat Accuracy  \\\n",
       "7284  [0, 1, 2, 6, 7, 8, 10]         0.574111         0.456642   \n",
       "\n",
       "      Number of Features  \n",
       "7284                   7  "
      ]
     },
     "metadata": {},
     "output_type": "display_data"
    },
    {
     "name": "stdout",
     "output_type": "stream",
     "text": [
      "Source Accuracy Threshold: 0.5671568159726156\n"
     ]
    },
    {
     "data": {
      "text/html": [
       "<div>\n",
       "<style scoped>\n",
       "    .dataframe tbody tr th:only-of-type {\n",
       "        vertical-align: middle;\n",
       "    }\n",
       "\n",
       "    .dataframe tbody tr th {\n",
       "        vertical-align: top;\n",
       "    }\n",
       "\n",
       "    .dataframe thead th {\n",
       "        text-align: right;\n",
       "    }\n",
       "</style>\n",
       "<table border=\"1\" class=\"dataframe\">\n",
       "  <thead>\n",
       "    <tr style=\"text-align: right;\">\n",
       "      <th></th>\n",
       "      <th>Features</th>\n",
       "      <th>Source Accuracy</th>\n",
       "      <th>Threat Accuracy</th>\n",
       "      <th>Number of Features</th>\n",
       "    </tr>\n",
       "  </thead>\n",
       "  <tbody>\n",
       "    <tr>\n",
       "      <th>7220</th>\n",
       "      <td>[0, 1, 2, 7, 8, 10]</td>\n",
       "      <td>0.570432</td>\n",
       "      <td>0.455062</td>\n",
       "      <td>6</td>\n",
       "    </tr>\n",
       "  </tbody>\n",
       "</table>\n",
       "</div>"
      ],
      "text/plain": [
       "                 Features  Source Accuracy  Threat Accuracy  \\\n",
       "7220  [0, 1, 2, 7, 8, 10]         0.570432         0.455062   \n",
       "\n",
       "      Number of Features  \n",
       "7220                   6  "
      ]
     },
     "metadata": {},
     "output_type": "display_data"
    },
    {
     "name": "stdout",
     "output_type": "stream",
     "text": [
      "Source Accuracy Threshold: 0.5621568159726156\n"
     ]
    },
    {
     "data": {
      "text/html": [
       "<div>\n",
       "<style scoped>\n",
       "    .dataframe tbody tr th:only-of-type {\n",
       "        vertical-align: middle;\n",
       "    }\n",
       "\n",
       "    .dataframe tbody tr th {\n",
       "        vertical-align: top;\n",
       "    }\n",
       "\n",
       "    .dataframe thead th {\n",
       "        text-align: right;\n",
       "    }\n",
       "</style>\n",
       "<table border=\"1\" class=\"dataframe\">\n",
       "  <thead>\n",
       "    <tr style=\"text-align: right;\">\n",
       "      <th></th>\n",
       "      <th>Features</th>\n",
       "      <th>Source Accuracy</th>\n",
       "      <th>Threat Accuracy</th>\n",
       "      <th>Number of Features</th>\n",
       "    </tr>\n",
       "  </thead>\n",
       "  <tbody>\n",
       "    <tr>\n",
       "      <th>7220</th>\n",
       "      <td>[0, 1, 2, 7, 8, 10]</td>\n",
       "      <td>0.570432</td>\n",
       "      <td>0.455062</td>\n",
       "      <td>6</td>\n",
       "    </tr>\n",
       "  </tbody>\n",
       "</table>\n",
       "</div>"
      ],
      "text/plain": [
       "                 Features  Source Accuracy  Threat Accuracy  \\\n",
       "7220  [0, 1, 2, 7, 8, 10]         0.570432         0.455062   \n",
       "\n",
       "      Number of Features  \n",
       "7220                   6  "
      ]
     },
     "metadata": {},
     "output_type": "display_data"
    }
   ],
   "source": [
    "for src_t in src_thres:\n",
    "    print(\"Source Accuracy Threshold:\", src_t)\n",
    "    min_feats = min(df[df['Source Accuracy']>=src_t]['Number of Features'])\n",
    "    display(df[(df['Source Accuracy']>=src_t) & (df['Number of Features']==min_feats)].sort_values(by='Threat Accuracy'))"
   ]
  },
  {
   "cell_type": "code",
   "execution_count": 11,
   "id": "handed-frontier",
   "metadata": {},
   "outputs": [],
   "source": [
    "# Ensemble of threat models (multiple threat models)\n",
    "# weighted decision based on threat model 1 accuracy, threat model 2 accuracy, number of features\n",
    "# what evidence do we need to remove feature #2\n",
    "# use number of features as tie-breaking rule, instead of threat accuracy"
   ]
  },
  {
   "cell_type": "code",
   "execution_count": null,
   "id": "integrated-scoop",
   "metadata": {},
   "outputs": [],
   "source": []
  }
 ],
 "metadata": {
  "kernelspec": {
   "display_name": "Python (venv-3.10)",
   "language": "python",
   "name": "venv-3.10"
  },
  "language_info": {
   "codemirror_mode": {
    "name": "ipython",
    "version": 3
   },
   "file_extension": ".py",
   "mimetype": "text/x-python",
   "name": "python",
   "nbconvert_exporter": "python",
   "pygments_lexer": "ipython3",
   "version": "3.10.12"
  }
 },
 "nbformat": 4,
 "nbformat_minor": 5
}
