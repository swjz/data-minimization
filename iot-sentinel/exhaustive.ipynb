{
 "cells": [
  {
   "cell_type": "code",
   "execution_count": 1,
   "id": "otherwise-internet",
   "metadata": {},
   "outputs": [],
   "source": [
    "import pandas as pd\n",
    "import numpy as np\n",
    "import ast\n",
    "from IPython.display import display"
   ]
  },
  {
   "cell_type": "code",
   "execution_count": 2,
   "id": "false-accommodation",
   "metadata": {},
   "outputs": [],
   "source": [
    "df = pd.read_csv('iot-sentinel-8192-unbalanced-unbalanced.txt', sep=';')"
   ]
  },
  {
   "cell_type": "code",
   "execution_count": 35,
   "id": "south-orleans",
   "metadata": {},
   "outputs": [
    {
     "data": {
      "text/plain": [
       "([0.7066260354112126,\n",
       "  0.7059194093758014,\n",
       "  0.704506157304979,\n",
       "  0.6995597750571004,\n",
       "  0.6854272543488762,\n",
       "  0.6359634318700914,\n",
       "  0.5653008283289701,\n",
       "  0.4946382247878488,\n",
       "  0.42397562124672755,\n",
       "  0.3533130177056063,\n",
       "  0.28265041416448505,\n",
       "  0.2119878106233638,\n",
       "  0.1413252070822425,\n",
       "  0.07066260354112125,\n",
       "  0.0],\n",
       " [0, 0.001, 0.003, 0.01, 0.03, 0.1, 0.2, 0.3, 0.4, 0.5, 0.6, 0.7, 0.8, 0.9, 1])"
      ]
     },
     "execution_count": 35,
     "metadata": {},
     "output_type": "execute_result"
    }
   ],
   "source": [
    "max_acc = max(df['Source Accuracy'])\n",
    "user_thres = [0, 0.001, 0.003, 0.01, 0.03, 0.1, 0.2, 0.3, 0.4, 0.5, 0.6, 0.7, 0.8, 0.9, 1]\n",
    "# user_thres = list(np.linspace(0,1,1001))\n",
    "src_thres = [max_acc * (1-x) for x in user_thres]\n",
    "src_thres, user_thres"
   ]
  },
  {
   "cell_type": "code",
   "execution_count": 12,
   "id": "c30f0d15-0e35-4194-806b-a8d1fa0f4f7a",
   "metadata": {},
   "outputs": [
    {
     "data": {
      "text/plain": [
       "Features              [0, 1, 2, 3, 4, 5, 8, 9, 10, 11]\n",
       "Source Accuracy                               0.706626\n",
       "Threat Accuracy                               0.620233\n",
       "Number of Features                                  10\n",
       "Name: 8094, dtype: object"
      ]
     },
     "execution_count": 12,
     "metadata": {},
     "output_type": "execute_result"
    }
   ],
   "source": [
    "df.loc[df['Source Accuracy'].idxmax()]"
   ]
  },
  {
   "cell_type": "code",
   "execution_count": 19,
   "id": "engaging-content",
   "metadata": {},
   "outputs": [],
   "source": [
    "df['Number of Features'] = df['Features'].apply(lambda x: len(ast.literal_eval(x)))"
   ]
  },
  {
   "cell_type": "code",
   "execution_count": 10,
   "id": "latter-delta",
   "metadata": {},
   "outputs": [
    {
     "data": {
      "text/html": [
       "<div>\n",
       "<style scoped>\n",
       "    .dataframe tbody tr th:only-of-type {\n",
       "        vertical-align: middle;\n",
       "    }\n",
       "\n",
       "    .dataframe tbody tr th {\n",
       "        vertical-align: top;\n",
       "    }\n",
       "\n",
       "    .dataframe thead th {\n",
       "        text-align: right;\n",
       "    }\n",
       "</style>\n",
       "<table border=\"1\" class=\"dataframe\">\n",
       "  <thead>\n",
       "    <tr style=\"text-align: right;\">\n",
       "      <th></th>\n",
       "      <th>Features</th>\n",
       "      <th>Source Accuracy</th>\n",
       "      <th>Threat Accuracy</th>\n",
       "      <th>Number of Features</th>\n",
       "    </tr>\n",
       "  </thead>\n",
       "  <tbody>\n",
       "    <tr>\n",
       "      <th>6206</th>\n",
       "      <td>[0, 1, 7, 8, 9, 10, 11]</td>\n",
       "      <td>0.699989</td>\n",
       "      <td>0.511870</td>\n",
       "      <td>7</td>\n",
       "    </tr>\n",
       "    <tr>\n",
       "      <th>6207</th>\n",
       "      <td>[0, 1, 7, 8, 9, 10, 11, 12]</td>\n",
       "      <td>0.700060</td>\n",
       "      <td>0.511590</td>\n",
       "      <td>8</td>\n",
       "    </tr>\n",
       "    <tr>\n",
       "      <th>6262</th>\n",
       "      <td>[0, 1, 6, 7, 8, 10, 11]</td>\n",
       "      <td>0.700490</td>\n",
       "      <td>0.511638</td>\n",
       "      <td>7</td>\n",
       "    </tr>\n",
       "    <tr>\n",
       "      <th>6263</th>\n",
       "      <td>[0, 1, 6, 7, 8, 10, 11, 12]</td>\n",
       "      <td>0.700627</td>\n",
       "      <td>0.511262</td>\n",
       "      <td>8</td>\n",
       "    </tr>\n",
       "    <tr>\n",
       "      <th>6266</th>\n",
       "      <td>[0, 1, 6, 7, 8, 9, 11]</td>\n",
       "      <td>0.700060</td>\n",
       "      <td>0.511334</td>\n",
       "      <td>7</td>\n",
       "    </tr>\n",
       "    <tr>\n",
       "      <th>...</th>\n",
       "      <td>...</td>\n",
       "      <td>...</td>\n",
       "      <td>...</td>\n",
       "      <td>...</td>\n",
       "    </tr>\n",
       "    <tr>\n",
       "      <th>8187</th>\n",
       "      <td>[0, 1, 2, 3, 4, 5, 6, 7, 8, 9, 11, 12]</td>\n",
       "      <td>0.705839</td>\n",
       "      <td>0.620072</td>\n",
       "      <td>12</td>\n",
       "    </tr>\n",
       "    <tr>\n",
       "      <th>8188</th>\n",
       "      <td>[0, 1, 2, 3, 4, 5, 6, 7, 8, 9, 10]</td>\n",
       "      <td>0.706048</td>\n",
       "      <td>0.620406</td>\n",
       "      <td>11</td>\n",
       "    </tr>\n",
       "    <tr>\n",
       "      <th>8189</th>\n",
       "      <td>[0, 1, 2, 3, 4, 5, 6, 7, 8, 9, 10, 12]</td>\n",
       "      <td>0.705773</td>\n",
       "      <td>0.619994</td>\n",
       "      <td>12</td>\n",
       "    </tr>\n",
       "    <tr>\n",
       "      <th>8190</th>\n",
       "      <td>[0, 1, 2, 3, 4, 5, 6, 7, 8, 9, 10, 11]</td>\n",
       "      <td>0.706501</td>\n",
       "      <td>0.620370</td>\n",
       "      <td>12</td>\n",
       "    </tr>\n",
       "    <tr>\n",
       "      <th>8191</th>\n",
       "      <td>[0, 1, 2, 3, 4, 5, 6, 7, 8, 9, 10, 11, 12]</td>\n",
       "      <td>0.706185</td>\n",
       "      <td>0.620489</td>\n",
       "      <td>13</td>\n",
       "    </tr>\n",
       "  </tbody>\n",
       "</table>\n",
       "<p>674 rows × 4 columns</p>\n",
       "</div>"
      ],
      "text/plain": [
       "                                        Features  Source Accuracy  \\\n",
       "6206                     [0, 1, 7, 8, 9, 10, 11]         0.699989   \n",
       "6207                 [0, 1, 7, 8, 9, 10, 11, 12]         0.700060   \n",
       "6262                     [0, 1, 6, 7, 8, 10, 11]         0.700490   \n",
       "6263                 [0, 1, 6, 7, 8, 10, 11, 12]         0.700627   \n",
       "6266                      [0, 1, 6, 7, 8, 9, 11]         0.700060   \n",
       "...                                          ...              ...   \n",
       "8187      [0, 1, 2, 3, 4, 5, 6, 7, 8, 9, 11, 12]         0.705839   \n",
       "8188          [0, 1, 2, 3, 4, 5, 6, 7, 8, 9, 10]         0.706048   \n",
       "8189      [0, 1, 2, 3, 4, 5, 6, 7, 8, 9, 10, 12]         0.705773   \n",
       "8190      [0, 1, 2, 3, 4, 5, 6, 7, 8, 9, 10, 11]         0.706501   \n",
       "8191  [0, 1, 2, 3, 4, 5, 6, 7, 8, 9, 10, 11, 12]         0.706185   \n",
       "\n",
       "      Threat Accuracy  Number of Features  \n",
       "6206         0.511870                   7  \n",
       "6207         0.511590                   8  \n",
       "6262         0.511638                   7  \n",
       "6263         0.511262                   8  \n",
       "6266         0.511334                   7  \n",
       "...               ...                 ...  \n",
       "8187         0.620072                  12  \n",
       "8188         0.620406                  11  \n",
       "8189         0.619994                  12  \n",
       "8190         0.620370                  12  \n",
       "8191         0.620489                  13  \n",
       "\n",
       "[674 rows x 4 columns]"
      ]
     },
     "execution_count": 10,
     "metadata": {},
     "output_type": "execute_result"
    }
   ],
   "source": [
    "df[df['Source Accuracy']>=src_thres[1]]"
   ]
  },
  {
   "cell_type": "code",
   "execution_count": 36,
   "id": "important-spectrum",
   "metadata": {},
   "outputs": [],
   "source": [
    "import os\n",
    "filename = os.path.basename(globals()['__session__'])\n",
    "results_list = []\n",
    "\n",
    "for src_t, user_t in zip(src_thres, user_thres):\n",
    "    # print(\"Source Accuracy Threshold:\", src_t)\n",
    "    # print(User Threshold:\", user_t)\n",
    "    \n",
    "    # Filter rows based on source accuracy threshold\n",
    "    filtered_df = df[df['Source Accuracy'] >= src_t]\n",
    "    \n",
    "    # Find the lowest threat accuracy\n",
    "    min_threat_accuracy = filtered_df['Threat Accuracy'].min()\n",
    "    \n",
    "    # Filter rows with similar threat accuracy (<1% difference)\n",
    "    similar_threat_rows = filtered_df[\n",
    "        (filtered_df['Threat Accuracy'] >= min_threat_accuracy) & \n",
    "        (filtered_df['Threat Accuracy'] <= min_threat_accuracy * 1.01)\n",
    "    ]\n",
    "    \n",
    "    # Find the row with the minimum number of features among these rows\n",
    "    # min_feats = similar_threat_rows['Number of Features'].min()\n",
    "    # result = similar_threat_rows[similar_threat_rows['Number of Features'] <= min_feats+1]\n",
    "    \n",
    "    # Sort and select the row with minimum threat accuracy\n",
    "    selected_row = similar_threat_rows.sort_values(by='Threat Accuracy').iloc[0]\n",
    "    \n",
    "    # Append result to list\n",
    "    results_list.append([\n",
    "        user_t,\n",
    "        selected_row['Source Accuracy'],\n",
    "        selected_row['Threat Accuracy'],\n",
    "        selected_row['Number of Features']\n",
    "    ])\n",
    "\n",
    "columns = ['Threshold', 'Source Accuracy', 'Threat Accuracy', f\"# Features (Max {max(df['Number of Features'])})\"]\n",
    "result_df = pd.DataFrame(results_list, columns=columns)\n",
    "# result_df.to_csv(filename + '.csv', index=False)"
   ]
  },
  {
   "cell_type": "code",
   "execution_count": 42,
   "id": "ddca0602-c902-4b77-a292-003872a74dfb",
   "metadata": {},
   "outputs": [
    {
     "data": {
      "image/png": "[encoded data removed]",
      "text/plain": [
       "<Figure size 800x500 with 1 Axes>"
      ]
     },
     "metadata": {},
     "output_type": "display_data"
    }
   ],
   "source": [
    "# Re-import necessary libraries since execution state was reset\n",
    "import pandas as pd\n",
    "import numpy as np\n",
    "import matplotlib.pyplot as plt\n",
    "\n",
    "\n",
    "# Compute relative effectiveness\n",
    "accuracy_0 = result_df.at[0, \"Source Accuracy\"]\n",
    "identifiability_0 = result_df.at[0, \"Threat Accuracy\"]\n",
    "\n",
    "def compute_relative_effectiveness(row):\n",
    "    numerator = row[\"Threat Accuracy\"] - identifiability_0\n",
    "    denominator = row[\"Source Accuracy\"] - accuracy_0\n",
    "    if denominator == 0:\n",
    "        return np.nan  # Avoid division by zero\n",
    "    return np.log(numerator / denominator)\n",
    "\n",
    "result_df[\"Relative Effectiveness\"] = result_df.apply(lambda row: compute_relative_effectiveness(row) if row[\"Threshold\"] > 0 else np.nan, axis=1)\n",
    "\n",
    "# Extract x (Threshold) and y (Relative Effectiveness) values\n",
    "x = result_df[\"Threshold\"]\n",
    "y = result_df[\"Relative Effectiveness\"]\n",
    "\n",
    "# Create the scatter plot\n",
    "plt.figure(figsize=(8, 5))\n",
    "plt.scatter(x, y, color='blue', marker='o', label=\"Exhaustive Search\")\n",
    "\n",
    "# Add labels and title\n",
    "plt.xlabel(\"Threshold\")\n",
    "plt.ylabel(\"Relative Effectiveness\")\n",
    "plt.title(\"Threshold vs. Relative Effectiveness\")\n",
    "plt.axhline(0, color='gray', linestyle='--', linewidth=1)  # Add a horizontal reference line at y=0\n",
    "plt.axvline(0, color='gray', linestyle='--', linewidth=1)  # Add a vertical reference line at x=0\n",
    "\n",
    "# Show grid\n",
    "plt.grid(True, linestyle=\"--\", alpha=0.6)\n",
    "plt.legend()\n",
    "plt.show()\n"
   ]
  },
  {
   "cell_type": "code",
   "execution_count": 40,
   "id": "85e95f72-4df0-448c-8bc0-9e2251da3a00",
   "metadata": {},
   "outputs": [
    {
     "data": {
      "image/png": "[encoded data removed]",
      "text/plain": [
       "<Figure size 800x500 with 1 Axes>"
      ]
     },
     "metadata": {},
     "output_type": "display_data"
    }
   ],
   "source": [
    "# Re-import necessary libraries since execution state was reset\n",
    "import pandas as pd\n",
    "import numpy as np\n",
    "import matplotlib.pyplot as plt\n",
    "\n",
    "\n",
    "# Compute relative effectiveness\n",
    "accuracy_0 = result_df.at[0, \"Source Accuracy\"]\n",
    "identifiability_0 = result_df.at[0, \"Threat Accuracy\"]\n",
    "\n",
    "def compute_relative_effectiveness(row):\n",
    "    numerator = row[\"Threat Accuracy\"] - identifiability_0\n",
    "    denominator = row[\"Source Accuracy\"] - accuracy_0\n",
    "    if denominator == 0:\n",
    "        return np.nan  # Avoid division by zero\n",
    "    return np.log(numerator / denominator)\n",
    "\n",
    "result_df[\"Relative Effectiveness\"] = result_df.apply(lambda row: compute_relative_effectiveness(row) if row[\"Threshold\"] > 0 else np.nan, axis=1)\n",
    "\n",
    "# Extract x (Threshold) and y (Relative Effectiveness) values\n",
    "x = result_df[f\"# Features (Max {max(df['Number of Features'])})\"]\n",
    "y = result_df[\"Relative Effectiveness\"]\n",
    "\n",
    "# Create the scatter plot\n",
    "plt.figure(figsize=(8, 5))\n",
    "plt.scatter(x, y, color='blue', marker='o', label=\"Exhaustive Search\")\n",
    "\n",
    "# Add labels and title\n",
    "plt.xlabel(\"Number of Features\")\n",
    "plt.ylabel(\"Relative Effectiveness\")\n",
    "plt.title(\"Number of Features vs. Relative Effectiveness\")\n",
    "plt.axhline(0, color='gray', linestyle='--', linewidth=1)  # Add a horizontal reference line at y=0\n",
    "plt.axvline(0, color='gray', linestyle='--', linewidth=1)  # Add a vertical reference line at x=0\n",
    "\n",
    "# Show grid\n",
    "plt.grid(True, linestyle=\"--\", alpha=0.6)\n",
    "plt.legend()\n",
    "plt.show()\n"
   ]
  },
  {
   "cell_type": "code",
   "execution_count": 8,
   "id": "d04273a9-21c7-4930-ada7-3af0a6a25a78",
   "metadata": {},
   "outputs": [
    {
     "name": "stdout",
     "output_type": "stream",
     "text": [
      "Source Accuracy Threshold: 0.5921568159726156\n",
      "Source Accuracy Threshold: 0.5896568159726157\n",
      "Source Accuracy Threshold: 0.5871568159726156\n",
      "Source Accuracy Threshold: 0.5821568159726156\n",
      "Source Accuracy Threshold: 0.5771568159726156\n",
      "Source Accuracy Threshold: 0.5721568159726156\n",
      "Source Accuracy Threshold: 0.5671568159726156\n",
      "Source Accuracy Threshold: 0.5621568159726156\n"
     ]
    },
    {
     "data": {
      "image/png": "[encoded data removed]",
      "text/plain": [
       "<Figure size 1000x600 with 1 Axes>"
      ]
     },
     "metadata": {},
     "output_type": "display_data"
    }
   ],
   "source": [
    "import pandas as pd\n",
    "import matplotlib.pyplot as plt\n",
    "\n",
    "# Collect results for plotting\n",
    "plot_data = []\n",
    "\n",
    "for src_t in src_thres:\n",
    "    print(\"Source Accuracy Threshold:\", src_t)\n",
    "    \n",
    "    # Filter rows based on source accuracy threshold\n",
    "    filtered_df = df[df['Source Accuracy'] >= src_t]\n",
    "    \n",
    "    # Find the lowest threat accuracy\n",
    "    min_threat_accuracy = filtered_df['Threat Accuracy'].min()\n",
    "    \n",
    "    # Filter rows with similar threat accuracy (<1% difference)\n",
    "    similar_threat_rows = filtered_df[\n",
    "        (filtered_df['Threat Accuracy'] >= min_threat_accuracy) & \n",
    "        (filtered_df['Threat Accuracy'] <= min_threat_accuracy * 1.01)\n",
    "    ]\n",
    "    \n",
    "    # Find the row with the minimum number of features among these rows\n",
    "    min_feats = similar_threat_rows['Number of Features'].min()\n",
    "    result = similar_threat_rows[similar_threat_rows['Number of Features'] <= min_feats+1]\n",
    "    \n",
    "    # Select the first data point for the current threshold\n",
    "    if not result.empty:\n",
    "        first_row = result.iloc[0]\n",
    "        plot_data.append({\n",
    "            'Source Accuracy': first_row['Source Accuracy'],\n",
    "            'Privateness': 1 - first_row['Threat Accuracy'],\n",
    "            'Threshold': src_t\n",
    "        })\n",
    "\n",
    "# Convert collected data to a DataFrame\n",
    "plot_df = pd.DataFrame(plot_data)\n",
    "\n",
    "# Plotting\n",
    "plt.figure(figsize=(10, 6))\n",
    "plt.plot(plot_df['Privateness'], plot_df['Source Accuracy'], marker='o', label='Our Tradeoff')\n",
    "    \n",
    "plt.ylabel('Source Accuracy')\n",
    "plt.xlabel('Privateness (1 - Threat Accuracy)')\n",
    "plt.title('Source Accuracy vs. Privateness Across Thresholds')\n",
    "plt.legend()\n",
    "plt.grid(True)\n",
    "plt.show()\n"
   ]
  },
  {
   "cell_type": "code",
   "execution_count": 10,
   "id": "hired-italic",
   "metadata": {},
   "outputs": [
    {
     "name": "stdout",
     "output_type": "stream",
     "text": [
      "Source Accuracy Threshold: 0.5921568159726156\n"
     ]
    },
    {
     "data": {
      "text/html": [
       "<div>\n",
       "<style scoped>\n",
       "    .dataframe tbody tr th:only-of-type {\n",
       "        vertical-align: middle;\n",
       "    }\n",
       "\n",
       "    .dataframe tbody tr th {\n",
       "        vertical-align: top;\n",
       "    }\n",
       "\n",
       "    .dataframe thead th {\n",
       "        text-align: right;\n",
       "    }\n",
       "</style>\n",
       "<table border=\"1\" class=\"dataframe\">\n",
       "  <thead>\n",
       "    <tr style=\"text-align: right;\">\n",
       "      <th></th>\n",
       "      <th>Features</th>\n",
       "      <th>Source Accuracy</th>\n",
       "      <th>Threat Accuracy</th>\n",
       "      <th>Number of Features</th>\n",
       "    </tr>\n",
       "  </thead>\n",
       "  <tbody>\n",
       "    <tr>\n",
       "      <th>6655</th>\n",
       "      <td>[0, 1, 4, 5, 6, 7, 8, 9, 10, 11, 12]</td>\n",
       "      <td>0.592157</td>\n",
       "      <td>0.394443</td>\n",
       "      <td>11</td>\n",
       "    </tr>\n",
       "  </tbody>\n",
       "</table>\n",
       "</div>"
      ],
      "text/plain": [
       "                                  Features  Source Accuracy  Threat Accuracy  \\\n",
       "6655  [0, 1, 4, 5, 6, 7, 8, 9, 10, 11, 12]         0.592157         0.394443   \n",
       "\n",
       "      Number of Features  \n",
       "6655                  11  "
      ]
     },
     "metadata": {},
     "output_type": "display_data"
    },
    {
     "name": "stdout",
     "output_type": "stream",
     "text": [
      "Source Accuracy Threshold: 0.5896568159726157\n"
     ]
    },
    {
     "data": {
      "text/html": [
       "<div>\n",
       "<style scoped>\n",
       "    .dataframe tbody tr th:only-of-type {\n",
       "        vertical-align: middle;\n",
       "    }\n",
       "\n",
       "    .dataframe tbody tr th {\n",
       "        vertical-align: top;\n",
       "    }\n",
       "\n",
       "    .dataframe thead th {\n",
       "        text-align: right;\n",
       "    }\n",
       "</style>\n",
       "<table border=\"1\" class=\"dataframe\">\n",
       "  <thead>\n",
       "    <tr style=\"text-align: right;\">\n",
       "      <th></th>\n",
       "      <th>Features</th>\n",
       "      <th>Source Accuracy</th>\n",
       "      <th>Threat Accuracy</th>\n",
       "      <th>Number of Features</th>\n",
       "    </tr>\n",
       "  </thead>\n",
       "  <tbody>\n",
       "    <tr>\n",
       "      <th>6527</th>\n",
       "      <td>[0, 1, 4, 6, 7, 8, 9, 10, 11, 12]</td>\n",
       "      <td>0.591644</td>\n",
       "      <td>0.394246</td>\n",
       "      <td>10</td>\n",
       "    </tr>\n",
       "    <tr>\n",
       "      <th>6399</th>\n",
       "      <td>[0, 1, 5, 6, 7, 8, 9, 10, 11, 12]</td>\n",
       "      <td>0.591793</td>\n",
       "      <td>0.394437</td>\n",
       "      <td>10</td>\n",
       "    </tr>\n",
       "  </tbody>\n",
       "</table>\n",
       "</div>"
      ],
      "text/plain": [
       "                               Features  Source Accuracy  Threat Accuracy  \\\n",
       "6527  [0, 1, 4, 6, 7, 8, 9, 10, 11, 12]         0.591644         0.394246   \n",
       "6399  [0, 1, 5, 6, 7, 8, 9, 10, 11, 12]         0.591793         0.394437   \n",
       "\n",
       "      Number of Features  \n",
       "6527                  10  \n",
       "6399                  10  "
      ]
     },
     "metadata": {},
     "output_type": "display_data"
    },
    {
     "name": "stdout",
     "output_type": "stream",
     "text": [
      "Source Accuracy Threshold: 0.5871568159726156\n"
     ]
    },
    {
     "data": {
      "text/html": [
       "<div>\n",
       "<style scoped>\n",
       "    .dataframe tbody tr th:only-of-type {\n",
       "        vertical-align: middle;\n",
       "    }\n",
       "\n",
       "    .dataframe tbody tr th {\n",
       "        vertical-align: top;\n",
       "    }\n",
       "\n",
       "    .dataframe thead th {\n",
       "        text-align: right;\n",
       "    }\n",
       "</style>\n",
       "<table border=\"1\" class=\"dataframe\">\n",
       "  <thead>\n",
       "    <tr style=\"text-align: right;\">\n",
       "      <th></th>\n",
       "      <th>Features</th>\n",
       "      <th>Source Accuracy</th>\n",
       "      <th>Threat Accuracy</th>\n",
       "      <th>Number of Features</th>\n",
       "    </tr>\n",
       "  </thead>\n",
       "  <tbody>\n",
       "    <tr>\n",
       "      <th>6527</th>\n",
       "      <td>[0, 1, 4, 6, 7, 8, 9, 10, 11, 12]</td>\n",
       "      <td>0.591644</td>\n",
       "      <td>0.394246</td>\n",
       "      <td>10</td>\n",
       "    </tr>\n",
       "    <tr>\n",
       "      <th>6399</th>\n",
       "      <td>[0, 1, 5, 6, 7, 8, 9, 10, 11, 12]</td>\n",
       "      <td>0.591793</td>\n",
       "      <td>0.394437</td>\n",
       "      <td>10</td>\n",
       "    </tr>\n",
       "  </tbody>\n",
       "</table>\n",
       "</div>"
      ],
      "text/plain": [
       "                               Features  Source Accuracy  Threat Accuracy  \\\n",
       "6527  [0, 1, 4, 6, 7, 8, 9, 10, 11, 12]         0.591644         0.394246   \n",
       "6399  [0, 1, 5, 6, 7, 8, 9, 10, 11, 12]         0.591793         0.394437   \n",
       "\n",
       "      Number of Features  \n",
       "6527                  10  \n",
       "6399                  10  "
      ]
     },
     "metadata": {},
     "output_type": "display_data"
    },
    {
     "name": "stdout",
     "output_type": "stream",
     "text": [
      "Source Accuracy Threshold: 0.5821568159726156\n"
     ]
    },
    {
     "data": {
      "text/html": [
       "<div>\n",
       "<style scoped>\n",
       "    .dataframe tbody tr th:only-of-type {\n",
       "        vertical-align: middle;\n",
       "    }\n",
       "\n",
       "    .dataframe tbody tr th {\n",
       "        vertical-align: top;\n",
       "    }\n",
       "\n",
       "    .dataframe thead th {\n",
       "        text-align: right;\n",
       "    }\n",
       "</style>\n",
       "<table border=\"1\" class=\"dataframe\">\n",
       "  <thead>\n",
       "    <tr style=\"text-align: right;\">\n",
       "      <th></th>\n",
       "      <th>Features</th>\n",
       "      <th>Source Accuracy</th>\n",
       "      <th>Threat Accuracy</th>\n",
       "      <th>Number of Features</th>\n",
       "    </tr>\n",
       "  </thead>\n",
       "  <tbody>\n",
       "    <tr>\n",
       "      <th>6527</th>\n",
       "      <td>[0, 1, 4, 6, 7, 8, 9, 10, 11, 12]</td>\n",
       "      <td>0.591644</td>\n",
       "      <td>0.394246</td>\n",
       "      <td>10</td>\n",
       "    </tr>\n",
       "    <tr>\n",
       "      <th>6399</th>\n",
       "      <td>[0, 1, 5, 6, 7, 8, 9, 10, 11, 12]</td>\n",
       "      <td>0.591793</td>\n",
       "      <td>0.394437</td>\n",
       "      <td>10</td>\n",
       "    </tr>\n",
       "  </tbody>\n",
       "</table>\n",
       "</div>"
      ],
      "text/plain": [
       "                               Features  Source Accuracy  Threat Accuracy  \\\n",
       "6527  [0, 1, 4, 6, 7, 8, 9, 10, 11, 12]         0.591644         0.394246   \n",
       "6399  [0, 1, 5, 6, 7, 8, 9, 10, 11, 12]         0.591793         0.394437   \n",
       "\n",
       "      Number of Features  \n",
       "6527                  10  \n",
       "6399                  10  "
      ]
     },
     "metadata": {},
     "output_type": "display_data"
    },
    {
     "name": "stdout",
     "output_type": "stream",
     "text": [
      "Source Accuracy Threshold: 0.5771568159726156\n"
     ]
    },
    {
     "data": {
      "text/html": [
       "<div>\n",
       "<style scoped>\n",
       "    .dataframe tbody tr th:only-of-type {\n",
       "        vertical-align: middle;\n",
       "    }\n",
       "\n",
       "    .dataframe tbody tr th {\n",
       "        vertical-align: top;\n",
       "    }\n",
       "\n",
       "    .dataframe thead th {\n",
       "        text-align: right;\n",
       "    }\n",
       "</style>\n",
       "<table border=\"1\" class=\"dataframe\">\n",
       "  <thead>\n",
       "    <tr style=\"text-align: right;\">\n",
       "      <th></th>\n",
       "      <th>Features</th>\n",
       "      <th>Source Accuracy</th>\n",
       "      <th>Threat Accuracy</th>\n",
       "      <th>Number of Features</th>\n",
       "    </tr>\n",
       "  </thead>\n",
       "  <tbody>\n",
       "    <tr>\n",
       "      <th>6271</th>\n",
       "      <td>[0, 1, 6, 7, 8, 9, 10, 11, 12]</td>\n",
       "      <td>0.58159</td>\n",
       "      <td>0.394151</td>\n",
       "      <td>9</td>\n",
       "    </tr>\n",
       "  </tbody>\n",
       "</table>\n",
       "</div>"
      ],
      "text/plain": [
       "                            Features  Source Accuracy  Threat Accuracy  \\\n",
       "6271  [0, 1, 6, 7, 8, 9, 10, 11, 12]          0.58159         0.394151   \n",
       "\n",
       "      Number of Features  \n",
       "6271                   9  "
      ]
     },
     "metadata": {},
     "output_type": "display_data"
    },
    {
     "name": "stdout",
     "output_type": "stream",
     "text": [
      "Source Accuracy Threshold: 0.5721568159726156\n"
     ]
    },
    {
     "data": {
      "text/html": [
       "<div>\n",
       "<style scoped>\n",
       "    .dataframe tbody tr th:only-of-type {\n",
       "        vertical-align: middle;\n",
       "    }\n",
       "\n",
       "    .dataframe tbody tr th {\n",
       "        vertical-align: top;\n",
       "    }\n",
       "\n",
       "    .dataframe thead th {\n",
       "        text-align: right;\n",
       "    }\n",
       "</style>\n",
       "<table border=\"1\" class=\"dataframe\">\n",
       "  <thead>\n",
       "    <tr style=\"text-align: right;\">\n",
       "      <th></th>\n",
       "      <th>Features</th>\n",
       "      <th>Source Accuracy</th>\n",
       "      <th>Threat Accuracy</th>\n",
       "      <th>Number of Features</th>\n",
       "    </tr>\n",
       "  </thead>\n",
       "  <tbody>\n",
       "    <tr>\n",
       "      <th>7284</th>\n",
       "      <td>[0, 1, 2, 6, 7, 8, 10]</td>\n",
       "      <td>0.574111</td>\n",
       "      <td>0.456642</td>\n",
       "      <td>7</td>\n",
       "    </tr>\n",
       "  </tbody>\n",
       "</table>\n",
       "</div>"
      ],
      "text/plain": [
       "                    Features  Source Accuracy  Threat Accuracy  \\\n",
       "7284  [0, 1, 2, 6, 7, 8, 10]         0.574111         0.456642   \n",
       "\n",
       "      Number of Features  \n",
       "7284                   7  "
      ]
     },
     "metadata": {},
     "output_type": "display_data"
    },
    {
     "name": "stdout",
     "output_type": "stream",
     "text": [
      "Source Accuracy Threshold: 0.5671568159726156\n"
     ]
    },
    {
     "data": {
      "text/html": [
       "<div>\n",
       "<style scoped>\n",
       "    .dataframe tbody tr th:only-of-type {\n",
       "        vertical-align: middle;\n",
       "    }\n",
       "\n",
       "    .dataframe tbody tr th {\n",
       "        vertical-align: top;\n",
       "    }\n",
       "\n",
       "    .dataframe thead th {\n",
       "        text-align: right;\n",
       "    }\n",
       "</style>\n",
       "<table border=\"1\" class=\"dataframe\">\n",
       "  <thead>\n",
       "    <tr style=\"text-align: right;\">\n",
       "      <th></th>\n",
       "      <th>Features</th>\n",
       "      <th>Source Accuracy</th>\n",
       "      <th>Threat Accuracy</th>\n",
       "      <th>Number of Features</th>\n",
       "    </tr>\n",
       "  </thead>\n",
       "  <tbody>\n",
       "    <tr>\n",
       "      <th>7220</th>\n",
       "      <td>[0, 1, 2, 7, 8, 10]</td>\n",
       "      <td>0.570432</td>\n",
       "      <td>0.455062</td>\n",
       "      <td>6</td>\n",
       "    </tr>\n",
       "  </tbody>\n",
       "</table>\n",
       "</div>"
      ],
      "text/plain": [
       "                 Features  Source Accuracy  Threat Accuracy  \\\n",
       "7220  [0, 1, 2, 7, 8, 10]         0.570432         0.455062   \n",
       "\n",
       "      Number of Features  \n",
       "7220                   6  "
      ]
     },
     "metadata": {},
     "output_type": "display_data"
    },
    {
     "name": "stdout",
     "output_type": "stream",
     "text": [
      "Source Accuracy Threshold: 0.5621568159726156\n"
     ]
    },
    {
     "data": {
      "text/html": [
       "<div>\n",
       "<style scoped>\n",
       "    .dataframe tbody tr th:only-of-type {\n",
       "        vertical-align: middle;\n",
       "    }\n",
       "\n",
       "    .dataframe tbody tr th {\n",
       "        vertical-align: top;\n",
       "    }\n",
       "\n",
       "    .dataframe thead th {\n",
       "        text-align: right;\n",
       "    }\n",
       "</style>\n",
       "<table border=\"1\" class=\"dataframe\">\n",
       "  <thead>\n",
       "    <tr style=\"text-align: right;\">\n",
       "      <th></th>\n",
       "      <th>Features</th>\n",
       "      <th>Source Accuracy</th>\n",
       "      <th>Threat Accuracy</th>\n",
       "      <th>Number of Features</th>\n",
       "    </tr>\n",
       "  </thead>\n",
       "  <tbody>\n",
       "    <tr>\n",
       "      <th>7220</th>\n",
       "      <td>[0, 1, 2, 7, 8, 10]</td>\n",
       "      <td>0.570432</td>\n",
       "      <td>0.455062</td>\n",
       "      <td>6</td>\n",
       "    </tr>\n",
       "  </tbody>\n",
       "</table>\n",
       "</div>"
      ],
      "text/plain": [
       "                 Features  Source Accuracy  Threat Accuracy  \\\n",
       "7220  [0, 1, 2, 7, 8, 10]         0.570432         0.455062   \n",
       "\n",
       "      Number of Features  \n",
       "7220                   6  "
      ]
     },
     "metadata": {},
     "output_type": "display_data"
    }
   ],
   "source": [
    "for src_t in src_thres:\n",
    "    print(\"Source Accuracy Threshold:\", src_t)\n",
    "    min_feats = min(df[df['Source Accuracy']>=src_t]['Number of Features'])\n",
    "    display(df[(df['Source Accuracy']>=src_t) & (df['Number of Features']==min_feats)].sort_values(by='Threat Accuracy'))"
   ]
  },
  {
   "cell_type": "code",
   "execution_count": 11,
   "id": "handed-frontier",
   "metadata": {},
   "outputs": [],
   "source": [
    "# Ensemble of threat models (multiple threat models)\n",
    "# weighted decision based on threat model 1 accuracy, threat model 2 accuracy, number of features\n",
    "# what evidence do we need to remove feature #2\n",
    "# use number of features as tie-breaking rule, instead of threat accuracy"
   ]
  },
  {
   "cell_type": "code",
   "execution_count": null,
   "id": "integrated-scoop",
   "metadata": {},
   "outputs": [],
   "source": []
  }
 ],
 "metadata": {
  "kernelspec": {
   "display_name": "Python (venv-3.10)",
   "language": "python",
   "name": "venv-3.10"
  },
  "language_info": {
   "codemirror_mode": {
    "name": "ipython",
    "version": 3
   },
   "file_extension": ".py",
   "mimetype": "text/x-python",
   "name": "python",
   "nbconvert_exporter": "python",
   "pygments_lexer": "ipython3",
   "version": "3.10.12"
  }
 },
 "nbformat": 4,
 "nbformat_minor": 5
}
